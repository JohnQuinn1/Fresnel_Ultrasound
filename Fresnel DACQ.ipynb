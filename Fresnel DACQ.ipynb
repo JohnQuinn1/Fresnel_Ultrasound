{
 "cells": [
  {
   "cell_type": "markdown",
   "metadata": {},
   "source": [
    "\n",
    "## Data Acquisition for the Fresnel Diffraction with Ultrasound Experiment \n",
    "\n",
    "In this lab a microstepped motor is used to precisely move an ultrasound receiver mounted on a linear slider rail. One-sixteenth microstepping is used and with the lead-screw system very smooth and fine movements are achiavable. **It was measured that 200,000 steps moves the recevier through 50 cm.**\n",
    "\n",
    "The motor is controlled by a Raspberry Pi Pico, which can be communicated with over Python using PySerial. \n",
    "\n",
    "The data acquisition is carried out in Python using a Picoscope, which is a USB oscilloscope."
   ]
  },
  {
   "cell_type": "markdown",
   "metadata": {},
   "source": [
    "\n",
    "### Raspberry Pi Pico\n",
    "\n",
    "The [Raspberry Pi Pico](https://www.raspberrypi.com/products/raspberry-pi-pico/) is a microcontroller that runs [Micropython](https://micropython.org). \n",
    "\n",
    "A limit switch is installed at one end of the slider rail, which is used to set the home zero position of the slider and prevent the motor driving too far. The limit is implemented in the software installed on the Pi Pico - for safety reasons you should only use the supplied functions and not directly manipulate the motor. The limit at the opposite end is based on a maximum number of steps from the limit switch. At any point the limit switch can be pressed by hand to stop the motor moving.\n",
    "\n",
    "The code to control the motor is installed in a file called `main.py` which is executed when the Pi Pico boots up. One can interact directly with the Pi Pico using the Thonny program and execute MicroPython commands including the functions to move the motor defined in `main.py`. However, for the purpose of automating the experiment, we want to issue commands to the Pi Pico directly from Python running on a standard PC. The is achieved by sending commands and receiving responses over the USB connection using PySerial. \n",
    "\n",
    "\n",
    "A class (`PicoSerial`) is provided in this GitHub repository to facilitate easy communication with the Pi Pico.\n",
    "The serial over USB approach uses the Pi Pico's REPL mode (Read-Evaluate-Print Loop) where commands received by the Pi Pico are read and echod to the terminal (serial line), evaluated, answer printed, and then repeat.\n",
    "This means that prompts seen in the terminal in Thonny ('`>>>`') are included and must be handled. Also, Python strings must be encoded as UTF8 for sending and decoded from UTF8 for receiving - this is handled automatically by the `PicoSerial` class. Sample code for doing this is provided.\n",
    "\n",
    "There is also an issue with timing - to read blocks of text a timeout must be specified and  if a command takes longer than the timeout (default is 1 s) to execute on the Pi Pico then a black line is returned and a re-read must happen. The PicoSerial class has a function which re-reads until a non-empty response is received.\n",
    "\n",
    "Note: sometimes the Pi Pico needs to be re-started after using Thonny so that it can communicate with the PC using Python and PySerial. If you need to restart it you must turn off the power to the power supply and also disconnect the USB cable from the computer.  "
   ]
  },
  {
   "cell_type": "markdown",
   "metadata": {},
   "source": [
    "#### Stepper Motor functions on the Pi Pico\n",
    "\n",
    "The functions for moving the stepped motor defined in `main.py` on the Pi Pico are:\n",
    "\n",
    "\n",
    "| Function | \n",
    "|----------|\n",
    "| `initialise()` |\n",
    "| `move(steps: int)` |  \n",
    "| `get_current_pos() -> int`|\n",
    "| `get_max_pos() -> int` | \n",
    "\n",
    "These commands print responses and do not return any values. They are explained below:\n",
    "\n",
    "**`intialise()`**:\n",
    "* must be called when system is first powered up or if limit switch is accidentally hit\n",
    "* it moves the slider until the limit switch is activated and then backs away until the limit switch is released. This is defined to be the zero position. Note: on some rare occasions this can be on the edge and the limit switch can activate in the zero position\n",
    "* the function does not return a value but prints values which must be handled.\n",
    "    * it prints `'Initialising'` immediately once called and then prints `'Initialised'` once finished. If the slider is a long way from the limit switch it can take considerably more than one second and hence the serial may time out.\n",
    "* if the slider is moved so that the limit switch is accidentally activated the `initialise()` must be called again.\n",
    "\n",
    "\n",
    "\n",
    "\n",
    "**`move(steps: int)`**:\n",
    "* moves the motor some number of steps.\n",
    "* the only argument, `steps` is an integer and if it is positive then the slider moves away from the limit switch whereas if it is negative the slider moves towards the limit switch.\n",
    "* the function does not return a value but prints values which must be handled.\n",
    "    * the function immediately prints `'Moving'` when called and then `'Success'` when it successfully finishes moving the slider.\n",
    "* it may also print one of the following errors if there is a problem:\n",
    "    * `'Error: Not initialised!'`\n",
    "    * `'Error: Beyond limit requested - not moved'` (if attempt to move beyond the maximum limit of 200,000 steps set in software)\n",
    "    * `'Error: Limit switch hit - you must re-initilise() before moving again.'`\n",
    "\n",
    "\n",
    "**`get_current_pos() -> int`**:\n",
    "\n",
    "* returns the current position of the slider in terms of the number of steps the motor has taken from the zero position.\n",
    "\n",
    "**`get_max_pos() -> int`**:\n",
    "\n",
    "* returns the maximum position of the slider in terms of the number of steps the motor can make from the zero position."
   ]
  },
  {
   "cell_type": "markdown",
   "metadata": {},
   "source": [
    "####  `PicoSerial` class\n",
    "\n",
    "A class called `PicoSerial` was developed to aid communications between Python running on the PC and the stepper motor code on the Pi Pico.\n",
    "\n",
    "It is in a filed called `picoserial.py` in this repository and you can either copy that file into your working directory or copy and paste the code into a cell in a Jupyter notebook. Here is a direct [link to PicoSerial.py on github](https://github.com/JohnQuinn1/Fresnel_Ultrasound/blob/main/picoserial.py).\n",
    "\n",
    "The REPL approach and code were motivated by this [artice](http://blog.rareschool.com/2021/01/controlling-raspberry-pi-pico-using.html).\n",
    "\n",
    "##### PicoSerial usage:\n",
    "\n",
    "Import and make an instance with:\n",
    "\n",
    "```python\n",
    "import picoserial\n",
    "motor =  picoserial.PicoSerial()  # use default constructor values\n",
    "```\n",
    "The PicoSerial constructor allows the following arguments to be specified (they all have default values which should generally be fine.):\n",
    "```python\n",
    "picoserial.PicoSerial(device='COM4', baud=9600, timeout=1.0)\n",
    "```\n",
    "\n",
    "\n",
    "The methods (functions) defined in the class are:\n",
    "\n",
    "| PicoSerial method|\n",
    "|------------------|\n",
    "|`receive() -> str`|\n",
    "|`receive_reply(max_reply_attempts: int = 1) -> str`|\n",
    "|`send(text: str) -> bool`|\n",
    "|`set_timeout(timeout: float) -> None`|\n",
    "\n",
    "\n",
    "Below is an explanation of the PicoSerial methods:\n",
    "\n",
    "**`receive() -> str`**:\n",
    "* read one line ('\\n' terminated) from the serial bus and decode it, removing any `>>>`. Will wait forever unless Serial timeout specified.\n",
    "* takes no arguments and returns a string, which may be empty if timed out.\n",
    "\n",
    "**`receive_reply(max_reply_attempts: int = 1) -> str`**:\n",
    "* Repeatedly calls `receive()` until a non-empty string is returned\n",
    "* `max_reply_attempts` is the maximum number of attempts to make before returning.\n",
    "* it returns a string, which may be empty if timed out. \n",
    "\n",
    "**`send(text: str) -> bool`**:\n",
    "* encode provided text and send over serial line.\n",
    "* The Pi Pico first echos whatever is sent to it - thus it is read back and compared to what was sent as a check that everything is working ok.\n",
    "* the method returns either `True` or `False` depending on whether the response matched what was sent or not - it is not an indication of whether the command sent to the Pi Pico succeeded, nor related to the output of that command.\n",
    "\n",
    "\n",
    "Example:\n",
    "```python\n",
    "import picoserial\n",
    "motor =  picoserial.PicoSerial()\n",
    "\n",
    "motor.send(\"initialise()\")\n",
    "print(motor.receive())            # should print 'Initialising'\n",
    "print(motor.receive_reply(1000))\n",
    "```\n",
    "produces:\n",
    "```\n",
    "Initialising\n",
    "Initialised\n",
    "```\n"
   ]
  },
  {
   "cell_type": "markdown",
   "metadata": {},
   "source": [
    "### The USB Picoscope\n",
    "\n",
    "The device used to take data is a USB oscilloscope ([Picoscope 2204a](https://www.picotech.com/oscilloscope/2000/picoscope-2000-overview)). It functions in the same way as a regular oscilloscope, with channels that read voltage data, however it is controlled using a PC. There is a PicoScope program that shows the traces, and this should be used to check the trace before taking data in Python. The appropriate timebase and voltage range may be determined by viewing the traces in this application.\n",
    "\n",
    "The Picoscope is used to collect data in Python, where amplitude values may be recorded over a specified timebase.\n",
    "\n",
    "To communicate with the Pi Pico in Python we use a third-party library available [here](https://github.com/colinoflynn/pico-python)\n",
    "\n",
    "The steps to use the Picoscope 2204a in Python are:\n",
    "1. Import libraries\n",
    "2. Open connection to the device\n",
    "3. Configure sampling interval\n",
    "4. Specify and configure channels to be read out\n",
    "5. Set up trigger\n",
    "6. Run the acquisition and wait for ready\n",
    "7. Read out data and make time array.\n"
   ]
  },
  {
   "cell_type": "markdown",
   "metadata": {},
   "source": [
    "#### Steps for reading the Picoscope from Python:"
   ]
  },
  {
   "cell_type": "markdown",
   "metadata": {},
   "source": [
    "#### Import libraries\n",
    "\n",
    "The libraries to interface with it must be imported:\n",
    "````Python \n",
    "from picoscope import ps2000\n",
    "````"
   ]
  },
  {
   "cell_type": "markdown",
   "metadata": {},
   "source": [
    "#### Open connection to the device\n",
    "The scope must then be set up, specifying parameters such as the sampling interval and the duration of the recording  \n",
    "Setting up the Picoscope device is shown in the following example:\n",
    "```Python\n",
    "\n",
    "ps = ps2000.PS2000()\n",
    "```"
   ]
  },
  {
   "cell_type": "markdown",
   "metadata": {},
   "source": [
    "#### Configure sampling interval\n",
    "```python\n",
    "waveform_desired_duration = 50E-6\n",
    "obs_duration = 3 * waveform_desired_duration #range plotted\n",
    "sampling_interval = obs_duration / 4096 #sampling interval\n",
    "\n",
    "(actualSamplingInterval, nSamples, maxSamples) = \\\n",
    "    ps.setSamplingInterval(sampling_interval, obs_duration)\n",
    "\n",
    "```\n",
    "The ``waveform_desired_duration`` value is specified in seconds, and can help in choosing a timebase. If the period of the waveform is known, a time should be included here that allows for an appropriate trace to be recorded. The actual duration over which the trace is recorded is given by ``obs_duration`` which in this case is 3 times the waveform duration. These numbers should be adjusted depending on the waveform observed to avoid aliasing of the signal.\n",
    "\n",
    "The ``sampling_interval`` ensures 4096 samples are taken within the observation window, this divisor may be changed depending on the number of samples required."
   ]
  },
  {
   "cell_type": "markdown",
   "metadata": {},
   "source": [
    "#### Specify and configure channels to be read out\n",
    "\n",
    "The channels must be set up using setChannel, with their sampling voltage range, in the case below it is 10V. The ``setChannel`` command will chose the next largest amplitude.     \n",
    "Then the trigger is set using ``setSimpleTrigger()``, in this case on the falling edge of channel A.  \n",
    "To collect data from the picoscope, a function called ``runBlock()`` is used. Then the data can collected using ``getDataV()``.  \n",
    "\n",
    "To take data from two channels, called A and B, the following code can be run:\n",
    "```Python\n",
    "ps.setChannel('A', 'DC', 10.0, 0.0, enabled=True,BWLimited=False)\n",
    "    \n",
    "ps.setChannel('B', 'DC', 10.0, 0.0, enabled=True,BWLimited=False)\n",
    "\n",
    "```\n",
    "\n",
    "`setChannel()` takes the following arguments:\n",
    "```Python\n",
    "setChannel(self, channel='A', coupling='AC', VRange=2.0, VOffset=0.0, enabled=True, BWLimited=0, probeAttenuation=1.0). \n",
    "```\n",
    "where the voltage range is set in the example above. This should be chosen based on the signal that you are viewing.\n"
   ]
  },
  {
   "cell_type": "markdown",
   "metadata": {},
   "source": [
    "#### Set up trigger\n",
    "```python\n",
    "ps.setSimpleTrigger('A', 1.0, 'Falling', timeout_ms=100, enabled=True) \n",
    "```\n",
    "\n",
    "The trigger function takes the following arguments:\n",
    "````Python\n",
    "setSimpleTrigger(self, trigSrc, threshold_V=0, direction='Rising', delay=0, timeout_ms=100, enabled=True)\n",
    "````\n",
    "Where the channel the scope triggers on and which edge can be chosen.  "
   ]
  },
  {
   "cell_type": "markdown",
   "metadata": {},
   "source": [
    "#### Run the acquisition and wait for ready\n",
    "\n",
    "```python   \n",
    "ps.runBlock()\n",
    "ps.waitReady()\n",
    "```"
   ]
  },
  {
   "cell_type": "markdown",
   "metadata": {},
   "source": [
    "#### Readout data and make time array\n",
    "\n",
    "```python\n",
    "dataA = ps.getDataV('A', nSamples, returnOverflow=False)     #collecting data for both channels \n",
    "dataB = ps.getDataV('B', nSamples, returnOverflow=False)\n",
    "    \n",
    "dataTimeAxis = np.arange(nSamples) * actualSamplingInterval\n",
    "\n",
    "```\n",
    "\n",
    "Record a data set and then plot using dataTimeAxis as your time axis, check that the plot returns the expected trace.\n"
   ]
  },
  {
   "cell_type": "markdown",
   "metadata": {},
   "source": [
    "#### Stop and close connection when finished\n",
    "\n",
    "```python\n",
    "ps.stop()\n",
    "ps.close()\n",
    "```"
   ]
  },
  {
   "cell_type": "markdown",
   "metadata": {},
   "source": [
    "#### Summary of some useful Picoscope Python commands\n",
    "\n",
    "Below is a table that provides commands that may be send to the PicoScope and what is returned:\n",
    "\n",
    "| Command | Returned | \n",
    ":-|-:\n",
    "|**setChannel(self, channel='A', coupling='AC', VRange=2.0, VOffset=0.0, enabled=True, BWLimited=0, probeAttenuation=1.0)**| This sets up a channel on the Scope | \n",
    "|**setSimpleTrigger(self, trigSrc, threshold_V=0, direction='Rising', delay=0, timeout_ms=100, enabled=True)**|This triggers the Scope on a certain channel|\n",
    "|**runBlock(self, pretrig=0.0, segmentIndex=0)**|Runs a block read of data|\n",
    "|**setSamplingInterval(self, sampleInterval, duration, oversample=0, segmentIndex=0)**|(actualSampleInterval, noSamples, maxSamples)|\n",
    "|**waitReady(self, spin_delay=0.01)**|waits until the scope is ready to collect data|\n",
    "|**getDataV(self, channel, numSamples=0, startIndex=0, downSampleRatio=1, downSampleMode=0, segmentIndex=0, returnOverflow=False, exceptOverflow=False, dataV=None, dataRaw=None, dtype=<class 'numpy.float64'>)**|Return the data as an array of voltage values. It returns (dataV, overflow) if returnOverflow = True, else, it returns dataV. dataV is an array with size numSamplesReturned|\n",
    "|**getDataRaw(self, channel='A', numSamples=0, startIndex=0, downSampleRatio=1, downSampleMode=0, segmentIndex=0, data=None)**|It returns a tuple containing: (data, numSamplesReturned, overflow)|\n",
    "|**getAllUnitInfo(self)**| Human readable unit information as a string|\n",
    "\n",
    "\n"
   ]
  }
 ],
 "metadata": {
  "kernelspec": {
   "display_name": "Python 3 (ipykernel)",
   "language": "python",
   "name": "python3"
  },
  "language_info": {
   "codemirror_mode": {
    "name": "ipython",
    "version": 3
   },
   "file_extension": ".py",
   "mimetype": "text/x-python",
   "name": "python",
   "nbconvert_exporter": "python",
   "pygments_lexer": "ipython3",
   "version": "3.9.12"
  },
  "latex_envs": {
   "LaTeX_envs_menu_present": true,
   "autoclose": true,
   "autocomplete": true,
   "bibliofile": "biblio.bib",
   "cite_by": "apalike",
   "current_citInitial": 1,
   "eqLabelWithNumbers": true,
   "eqNumInitial": 1,
   "hotkeys": {
    "equation": "Ctrl-E",
    "itemize": "Ctrl-I"
   },
   "labels_anchors": false,
   "latex_user_defs": false,
   "report_style_numbering": true,
   "user_envs_cfg": false
  },
  "toc": {
   "base_numbering": 1,
   "nav_menu": {},
   "number_sections": true,
   "sideBar": true,
   "skip_h1_title": false,
   "title_cell": "Table of Contents",
   "title_sidebar": "Contents",
   "toc_cell": false,
   "toc_position": {},
   "toc_section_display": true,
   "toc_window_display": false
  },
  "varInspector": {
   "cols": {
    "lenName": 16,
    "lenType": 16,
    "lenVar": 40
   },
   "kernels_config": {
    "python": {
     "delete_cmd_postfix": "",
     "delete_cmd_prefix": "del ",
     "library": "var_list.py",
     "varRefreshCmd": "print(var_dic_list())"
    },
    "r": {
     "delete_cmd_postfix": ") ",
     "delete_cmd_prefix": "rm(",
     "library": "var_list.r",
     "varRefreshCmd": "cat(var_dic_list()) "
    }
   },
   "types_to_exclude": [
    "module",
    "function",
    "builtin_function_or_method",
    "instance",
    "_Feature"
   ],
   "window_display": false
  }
 },
 "nbformat": 4,
 "nbformat_minor": 2
}
